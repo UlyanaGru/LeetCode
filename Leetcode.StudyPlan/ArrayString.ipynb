{
 "cells": [
  {
   "cell_type": "code",
   "execution_count": 5,
   "id": "a2d47096",
   "metadata": {},
   "outputs": [],
   "source": [
    "import numpy as np"
   ]
  },
  {
   "cell_type": "markdown",
   "id": "caeab711",
   "metadata": {},
   "source": [
    "#### merge-strings-alternately"
   ]
  },
  {
   "cell_type": "markdown",
   "id": "4c11a621",
   "metadata": {},
   "source": [
    "You are given two strings word1 and word2. Merge the strings by adding letters in alternating order, starting with word1. If a string is longer than the other, append the additional letters onto the end of the merged string. Return the merged string"
   ]
  },
  {
   "cell_type": "code",
   "execution_count": 6,
   "id": "9c9852f5",
   "metadata": {},
   "outputs": [],
   "source": [
    "words = [['cdf', 'a'], ['ab', 'pqrs'], ['abcd', 'pq']]"
   ]
  },
  {
   "cell_type": "code",
   "execution_count": 3,
   "id": "b2fa53df",
   "metadata": {},
   "outputs": [],
   "source": [
    "def mergeAlternately(word1, word2):\n",
    "    \"\"\"\n",
    "    :type word1: str\n",
    "    :type word2: str\n",
    "    \"\"\"\n",
    "    sequence = []\n",
    "    min_len = min(len(word1),len(word2))\n",
    "    for i in range(min_len):\n",
    "        sequence.append(word1[i])\n",
    "        sequence.append(word2[i])\n",
    "    if len(word1) > len(word2):\n",
    "        sequence.extend(word1[min_len:])\n",
    "    elif len(word2) > len(word1):\n",
    "        sequence.extend(word2[min_len:])\n",
    "    return ''.join(sequence)"
   ]
  },
  {
   "cell_type": "code",
   "execution_count": 4,
   "id": "051eea1a",
   "metadata": {},
   "outputs": [
    {
     "data": {
      "text/plain": [
       "'cadf'"
      ]
     },
     "execution_count": 4,
     "metadata": {},
     "output_type": "execute_result"
    }
   ],
   "source": [
    "mergeAlternately(words[0][0], words[0][1])"
   ]
  },
  {
   "cell_type": "markdown",
   "id": "0eceae4e",
   "metadata": {},
   "source": [
    "This solution accepted with 12 ms Beats 84.99%"
   ]
  },
  {
   "cell_type": "code",
   "execution_count": null,
   "id": "ac7f9d24",
   "metadata": {},
   "outputs": [],
   "source": [
    "def mergeAlternately(word1, word2):\n",
    "    \"\"\"\n",
    "    :type word1: str\n",
    "    :type word2: str\n",
    "    \"\"\"\n",
    "    sequence = ''\n",
    "    for i in range(min(len(word1),len(word2))):\n",
    "        sequence += word1[i] + word2[i]\n",
    "    sequence += word1[i+1:] + word2[i+1:]\n",
    "    return sequence"
   ]
  },
  {
   "cell_type": "code",
   "execution_count": 27,
   "id": "e1bb94cf",
   "metadata": {},
   "outputs": [
    {
     "data": {
      "text/plain": [
       "'cadf'"
      ]
     },
     "execution_count": 27,
     "metadata": {},
     "output_type": "execute_result"
    }
   ],
   "source": [
    "mergeAlternately(words[0][0], words[0][1])"
   ]
  },
  {
   "cell_type": "markdown",
   "id": "160829d9",
   "metadata": {},
   "source": [
    "This solution accepted with 16 ms Beats 60.54 %"
   ]
  },
  {
   "cell_type": "code",
   "execution_count": 34,
   "id": "7d71fe44",
   "metadata": {},
   "outputs": [],
   "source": [
    "def mergeAlternately(word1, word2):\n",
    "    \"\"\"\n",
    "    :type word1: str\n",
    "    :type word2: str\n",
    "    \"\"\"\n",
    "    sequence = ''\n",
    "    for i in range(min(len(word1),len(word2))):\n",
    "        sequence=np.char.add(sequence, word1[i] + word2[i])\n",
    "    sequence=np.char.add(sequence, word1[i+1:] + word2[i+1:])\n",
    "    return str(sequence)"
   ]
  },
  {
   "cell_type": "code",
   "execution_count": 35,
   "id": "f61cc9f2",
   "metadata": {},
   "outputs": [
    {
     "data": {
      "text/plain": [
       "'cadf'"
      ]
     },
     "execution_count": 35,
     "metadata": {},
     "output_type": "execute_result"
    }
   ],
   "source": [
    "mergeAlternately(words[0][0], words[0][1])"
   ]
  },
  {
   "cell_type": "markdown",
   "id": "cb21c3d1",
   "metadata": {},
   "source": [
    "This solution accepted with 83 ms Beats 7.61 %"
   ]
  },
  {
   "cell_type": "code",
   "execution_count": 14,
   "id": "55c3afd1",
   "metadata": {},
   "outputs": [],
   "source": [
    "def mergeAlternately(word1, word2):\n",
    "    \"\"\"\n",
    "    :type word1: str\n",
    "    :type word2: str\n",
    "    \"\"\"\n",
    "    min_len = min(len(word1),len(word2))\n",
    "    sequence = ''\n",
    "    sequence = sequence.join(word1[i]+word2[i] for i in range(min_len))\n",
    "    sequence += word1[min_len:] + word2[min_len:]\n",
    "    return sequence"
   ]
  },
  {
   "cell_type": "code",
   "execution_count": 15,
   "id": "5f20890d",
   "metadata": {},
   "outputs": [
    {
     "data": {
      "text/plain": [
       "'cadf'"
      ]
     },
     "execution_count": 15,
     "metadata": {},
     "output_type": "execute_result"
    }
   ],
   "source": [
    "mergeAlternately(words[0][0], words[0][1])"
   ]
  },
  {
   "cell_type": "markdown",
   "id": "68f4acb0",
   "metadata": {},
   "source": [
    "This solution accepted with 59 ms Beats 7.66%"
   ]
  },
  {
   "cell_type": "code",
   "execution_count": 20,
   "id": "86261c23",
   "metadata": {},
   "outputs": [],
   "source": [
    "def mergeAlternately(word1, word2):\n",
    "    \"\"\"\n",
    "    :type word1: str\n",
    "    :type word2: str\n",
    "    \"\"\"\n",
    "    sequence = []\n",
    "    for a,b in zip(word1,word2):\n",
    "        sequence.append(a)\n",
    "        sequence.append(b)\n",
    "    sequence.extend(word1[len(word2):])\n",
    "    sequence.extend(word2[len(word1):])\n",
    "    return ''.join(sequence)"
   ]
  },
  {
   "cell_type": "code",
   "execution_count": 21,
   "id": "c0fab047",
   "metadata": {},
   "outputs": [
    {
     "data": {
      "text/plain": [
       "'cadf'"
      ]
     },
     "execution_count": 21,
     "metadata": {},
     "output_type": "execute_result"
    }
   ],
   "source": [
    "mergeAlternately(words[0][0], words[0][1])"
   ]
  },
  {
   "cell_type": "markdown",
   "id": "95d71c3b",
   "metadata": {},
   "source": [
    "This solution accepted with 23ms Beats 10.35%"
   ]
  },
  {
   "cell_type": "markdown",
   "id": "17b9d630",
   "metadata": {},
   "source": [
    "### greatest-common-divisor-of-strings"
   ]
  },
  {
   "cell_type": "markdown",
   "id": "b78d2464",
   "metadata": {},
   "source": [
    "For two strings s and t, we say \"t divides s\" if and only if s = t + t + t + ... + t + t (i.e., t is concatenated with itself one or more times).\\\n",
    "Given two strings str1 and str2, return the largest string x such that x divides both str1 and str2."
   ]
  },
  {
   "cell_type": "code",
   "execution_count": 35,
   "id": "a675e843",
   "metadata": {},
   "outputs": [],
   "source": [
    "list_chars = [['TAUXXTAUXXTAUXXTAUXXTAUXX','TAUXXTAUXXTAUXXTAUXXTAUXXTAUXXTAUXXTAUXXTAUXX'],['dcdccd','dc'],['abdc','cd']]"
   ]
  },
  {
   "cell_type": "code",
   "execution_count": null,
   "id": "2eccd1dc",
   "metadata": {},
   "outputs": [],
   "source": [
    "def gcdOfStrings(str1, str2):\n",
    "    \"\"\"\n",
    "    :type str1: str\n",
    "    :type str2: str\n",
    "    \"\"\"\n",
    "    def isDivisor(t):\n",
    "        if len(str1)%len(t) != 0 and len(str2)%len(t) != 0:\n",
    "            return False\n",
    "        return (str1 == t*int(len(str1)/len(t))) & (str2 == t*int(len(str2)/len(t)))\n",
    "    for i in range(min(len(str1),len(str2)),0,-1):\n",
    "        if isDivisor(str1[:i]):\n",
    "            return str1[:i]\n",
    "    return ''"
   ]
  },
  {
   "cell_type": "code",
   "execution_count": 57,
   "id": "cb1af370",
   "metadata": {},
   "outputs": [
    {
     "data": {
      "text/plain": [
       "'TAUXX'"
      ]
     },
     "execution_count": 57,
     "metadata": {},
     "output_type": "execute_result"
    }
   ],
   "source": [
    "gcdOfStrings(list_chars[0][1],list_chars[0][0])"
   ]
  },
  {
   "cell_type": "markdown",
   "id": "c9bc4acb",
   "metadata": {},
   "source": [
    "This solution accepted with 3 ms Beats 34.34%"
   ]
  }
 ],
 "metadata": {
  "kernelspec": {
   "display_name": "Python 3",
   "language": "python",
   "name": "python3"
  },
  "language_info": {
   "codemirror_mode": {
    "name": "ipython",
    "version": 3
   },
   "file_extension": ".py",
   "mimetype": "text/x-python",
   "name": "python",
   "nbconvert_exporter": "python",
   "pygments_lexer": "ipython3",
   "version": "3.14.0"
  }
 },
 "nbformat": 4,
 "nbformat_minor": 5
}
