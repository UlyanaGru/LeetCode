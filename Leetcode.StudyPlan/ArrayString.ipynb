{
 "cells": [
  {
   "cell_type": "code",
   "execution_count": 1,
   "id": "a2d47096",
   "metadata": {},
   "outputs": [],
   "source": [
    "import numpy as np"
   ]
  },
  {
   "cell_type": "markdown",
   "id": "caeab711",
   "metadata": {},
   "source": [
    "#### merge-strings-alternately"
   ]
  },
  {
   "cell_type": "markdown",
   "id": "4c11a621",
   "metadata": {},
   "source": [
    "You are given two strings word1 and word2. Merge the strings by adding letters in alternating order, starting with word1. If a string is longer than the other, append the additional letters onto the end of the merged string. Return the merged string"
   ]
  },
  {
   "cell_type": "code",
   "execution_count": 2,
   "id": "9c9852f5",
   "metadata": {},
   "outputs": [],
   "source": [
    "words = [['cdf', 'a'], ['ab', 'pqrs'], ['abcd', 'pq']]"
   ]
  },
  {
   "cell_type": "code",
   "execution_count": 3,
   "id": "b2fa53df",
   "metadata": {},
   "outputs": [],
   "source": [
    "def mergeAlternately(word1, word2):\n",
    "    \"\"\"\n",
    "    :type word1: str\n",
    "    :type word2: str\n",
    "    \"\"\"\n",
    "    sequence = []\n",
    "    min_len = min(len(word1),len(word2))\n",
    "    for i in range(min_len):\n",
    "        sequence.append(word1[i])\n",
    "        sequence.append(word2[i])\n",
    "    if len(word1) > len(word2):\n",
    "        sequence.extend(word1[min_len:])\n",
    "    elif len(word2) > len(word1):\n",
    "        sequence.extend(word2[min_len:])\n",
    "    return ''.join(sequence)"
   ]
  },
  {
   "cell_type": "code",
   "execution_count": 4,
   "id": "051eea1a",
   "metadata": {},
   "outputs": [
    {
     "data": {
      "text/plain": [
       "'cadf'"
      ]
     },
     "execution_count": 4,
     "metadata": {},
     "output_type": "execute_result"
    }
   ],
   "source": [
    "mergeAlternately(words[0][0], words[0][1])"
   ]
  },
  {
   "cell_type": "markdown",
   "id": "0eceae4e",
   "metadata": {},
   "source": [
    "This solution accepted with 12 ms Beats 84.99%"
   ]
  },
  {
   "cell_type": "code",
   "execution_count": 5,
   "id": "ac7f9d24",
   "metadata": {},
   "outputs": [],
   "source": [
    "def mergeAlternately(word1, word2):\n",
    "    \"\"\"\n",
    "    :type word1: str\n",
    "    :type word2: str\n",
    "    \"\"\"\n",
    "    sequence = ''\n",
    "    for i in range(min(len(word1),len(word2))):\n",
    "        sequence += word1[i] + word2[i]\n",
    "    sequence += word1[i+1:] + word2[i+1:]\n",
    "    return sequence"
   ]
  },
  {
   "cell_type": "code",
   "execution_count": 6,
   "id": "e1bb94cf",
   "metadata": {},
   "outputs": [
    {
     "data": {
      "text/plain": [
       "'cadf'"
      ]
     },
     "execution_count": 6,
     "metadata": {},
     "output_type": "execute_result"
    }
   ],
   "source": [
    "mergeAlternately(words[0][0], words[0][1])"
   ]
  },
  {
   "cell_type": "markdown",
   "id": "160829d9",
   "metadata": {},
   "source": [
    "This solution accepted with 16 ms Beats 60.54 %"
   ]
  },
  {
   "cell_type": "code",
   "execution_count": 7,
   "id": "7d71fe44",
   "metadata": {},
   "outputs": [],
   "source": [
    "def mergeAlternately(word1, word2):\n",
    "    \"\"\"\n",
    "    :type word1: str\n",
    "    :type word2: str\n",
    "    \"\"\"\n",
    "    sequence = ''\n",
    "    for i in range(min(len(word1),len(word2))):\n",
    "        sequence=np.char.add(sequence, word1[i] + word2[i])\n",
    "    sequence=np.char.add(sequence, word1[i+1:] + word2[i+1:])\n",
    "    return str(sequence)"
   ]
  },
  {
   "cell_type": "code",
   "execution_count": 8,
   "id": "f61cc9f2",
   "metadata": {},
   "outputs": [
    {
     "data": {
      "text/plain": [
       "'cadf'"
      ]
     },
     "execution_count": 8,
     "metadata": {},
     "output_type": "execute_result"
    }
   ],
   "source": [
    "mergeAlternately(words[0][0], words[0][1])"
   ]
  },
  {
   "cell_type": "markdown",
   "id": "cb21c3d1",
   "metadata": {},
   "source": [
    "This solution accepted with 83 ms Beats 7.61 %"
   ]
  },
  {
   "cell_type": "code",
   "execution_count": 9,
   "id": "55c3afd1",
   "metadata": {},
   "outputs": [],
   "source": [
    "def mergeAlternately(word1, word2):\n",
    "    \"\"\"\n",
    "    :type word1: str\n",
    "    :type word2: str\n",
    "    \"\"\"\n",
    "    min_len = min(len(word1),len(word2))\n",
    "    sequence = ''\n",
    "    sequence = sequence.join(word1[i]+word2[i] for i in range(min_len))\n",
    "    sequence += word1[min_len:] + word2[min_len:]\n",
    "    return sequence"
   ]
  },
  {
   "cell_type": "code",
   "execution_count": 10,
   "id": "5f20890d",
   "metadata": {},
   "outputs": [
    {
     "data": {
      "text/plain": [
       "'cadf'"
      ]
     },
     "execution_count": 10,
     "metadata": {},
     "output_type": "execute_result"
    }
   ],
   "source": [
    "mergeAlternately(words[0][0], words[0][1])"
   ]
  },
  {
   "cell_type": "markdown",
   "id": "68f4acb0",
   "metadata": {},
   "source": [
    "This solution accepted with 59 ms Beats 7.66%"
   ]
  },
  {
   "cell_type": "code",
   "execution_count": 11,
   "id": "86261c23",
   "metadata": {},
   "outputs": [],
   "source": [
    "def mergeAlternately(word1, word2):\n",
    "    \"\"\"\n",
    "    :type word1: str\n",
    "    :type word2: str\n",
    "    \"\"\"\n",
    "    sequence = []\n",
    "    for a,b in zip(word1,word2):\n",
    "        sequence.append(a)\n",
    "        sequence.append(b)\n",
    "    sequence.extend(word1[len(word2):])\n",
    "    sequence.extend(word2[len(word1):])\n",
    "    return ''.join(sequence)"
   ]
  },
  {
   "cell_type": "code",
   "execution_count": 12,
   "id": "c0fab047",
   "metadata": {},
   "outputs": [
    {
     "data": {
      "text/plain": [
       "'cadf'"
      ]
     },
     "execution_count": 12,
     "metadata": {},
     "output_type": "execute_result"
    }
   ],
   "source": [
    "mergeAlternately(words[0][0], words[0][1])"
   ]
  },
  {
   "cell_type": "markdown",
   "id": "95d71c3b",
   "metadata": {},
   "source": [
    "This solution accepted with 23ms Beats 10.35%"
   ]
  },
  {
   "cell_type": "markdown",
   "id": "17b9d630",
   "metadata": {},
   "source": [
    "### greatest-common-divisor-of-strings"
   ]
  },
  {
   "cell_type": "markdown",
   "id": "b78d2464",
   "metadata": {},
   "source": [
    "For two strings s and t, we say \"t divides s\" if and only if s = t + t + t + ... + t + t (i.e., t is concatenated with itself one or more times).\\\n",
    "Given two strings str1 and str2, return the largest string x such that x divides both str1 and str2."
   ]
  },
  {
   "cell_type": "code",
   "execution_count": 13,
   "id": "a675e843",
   "metadata": {},
   "outputs": [],
   "source": [
    "list_chars = [['TAUXXTAUXXTAUXXTAUXXTAUXX','TAUXXTAUXXTAUXXTAUXXTAUXXTAUXXTAUXXTAUXXTAUXX'],['LEET','CODE'],['abdc','cd']]"
   ]
  },
  {
   "cell_type": "code",
   "execution_count": 14,
   "id": "2eccd1dc",
   "metadata": {},
   "outputs": [],
   "source": [
    "def gcdOfStrings(str1, str2):\n",
    "    \"\"\"\n",
    "    :type str1: str\n",
    "    :type str2: str\n",
    "    \"\"\"\n",
    "    def isDivisor(t):\n",
    "        if len(str1)%len(t) != 0 and len(str2)%len(t) != 0:\n",
    "            return False\n",
    "        return (str1 == t*int(len(str1)/len(t))) & (str2 == t*int(len(str2)/len(t)))\n",
    "    for i in range(min(len(str1),len(str2)),0,-1):\n",
    "        if isDivisor(str1[:i]):\n",
    "            return str1[:i]\n",
    "    return ''"
   ]
  },
  {
   "cell_type": "code",
   "execution_count": 15,
   "id": "cb1af370",
   "metadata": {},
   "outputs": [
    {
     "data": {
      "text/plain": [
       "'TAUXX'"
      ]
     },
     "execution_count": 15,
     "metadata": {},
     "output_type": "execute_result"
    }
   ],
   "source": [
    "gcdOfStrings(list_chars[0][1],list_chars[0][0])"
   ]
  },
  {
   "cell_type": "markdown",
   "id": "c9bc4acb",
   "metadata": {},
   "source": [
    "This solution accepted with 3 ms Beats 34.34%"
   ]
  },
  {
   "cell_type": "code",
   "execution_count": 16,
   "id": "14a26b93",
   "metadata": {},
   "outputs": [],
   "source": [
    "def gcdOfStrings(str1, str2):\n",
    "    \"\"\"\n",
    "    :type str1: str\n",
    "    :type str2: str\n",
    "    \"\"\"\n",
    "    if str1+str2 != str2+str1:\n",
    "        return ''\n",
    "    def gcd(a,b):\n",
    "        while b:\n",
    "            a,b = b,a%b\n",
    "        return a\n",
    "    return str1[:gcd(len(str1),len(str2))]"
   ]
  },
  {
   "cell_type": "code",
   "execution_count": 17,
   "id": "75fe4abe",
   "metadata": {},
   "outputs": [
    {
     "data": {
      "text/plain": [
       "'TAUXX'"
      ]
     },
     "execution_count": 17,
     "metadata": {},
     "output_type": "execute_result"
    }
   ],
   "source": [
    "gcdOfStrings(list_chars[0][1],list_chars[0][0])"
   ]
  },
  {
   "cell_type": "markdown",
   "id": "1da1da42",
   "metadata": {},
   "source": [
    "This solution accepted with 0 ms Beats 100.00%"
   ]
  },
  {
   "cell_type": "code",
   "execution_count": 18,
   "id": "d07e4d69",
   "metadata": {},
   "outputs": [],
   "source": [
    "def gcdOfStrings(str1, str2):\n",
    "    \"\"\"\n",
    "    :type str1: str\n",
    "    :type str2: str\n",
    "    \"\"\"\n",
    "    len1, len2 = len(str1), len(str2)\n",
    "    def valid(k):\n",
    "        if len1%k or len2%k:\n",
    "            return False\n",
    "        n1,n2 = len1//k,len2//k\n",
    "        base = str1[:k]\n",
    "        return str1 == base*n1 and str2 == base*n2\n",
    "    for i in range(min(len1,len2),0,-1):\n",
    "        if valid(i):\n",
    "            return str1[:i]\n",
    "    return ''"
   ]
  },
  {
   "cell_type": "code",
   "execution_count": 19,
   "id": "50a20ad5",
   "metadata": {},
   "outputs": [
    {
     "data": {
      "text/plain": [
       "''"
      ]
     },
     "execution_count": 19,
     "metadata": {},
     "output_type": "execute_result"
    }
   ],
   "source": [
    "gcdOfStrings(list_chars[1][0],list_chars[1][1])"
   ]
  },
  {
   "cell_type": "markdown",
   "id": "19387832",
   "metadata": {},
   "source": [
    "This solution accepted with 3 ms Beats 34.45%"
   ]
  },
  {
   "cell_type": "markdown",
   "id": "14c2b8c7",
   "metadata": {},
   "source": [
    "### kids-with-the-greatest-number-of-candies"
   ]
  },
  {
   "cell_type": "markdown",
   "id": "9fdc3178",
   "metadata": {},
   "source": [
    "here are *n* kids with candies. You are given an integer array candies, where each candies[i] represents the number of candies the $i^{th}$ kid has, and an integer extraCandies, denoting the number of extra candies that you have.\n",
    "\n",
    "Return a boolean array result of length *n*, where result[i] is true if, after giving the ith kid all the extraCandies, they will have the greatest number of candies among all the kids, or false otherwise.\n",
    "\n",
    "Note that multiple kids can have the greatest number of candies."
   ]
  },
  {
   "cell_type": "code",
   "execution_count": 37,
   "id": "721454a5",
   "metadata": {},
   "outputs": [],
   "source": [
    "candies, extraCandies = [2,3,5,1,3], 3"
   ]
  },
  {
   "cell_type": "code",
   "execution_count": null,
   "id": "eb4cba7a",
   "metadata": {},
   "outputs": [],
   "source": [
    "def kidsWithCandies(candies, extraCandies):\n",
    "        \"\"\"\n",
    "        :type candies: List[int]\n",
    "        :type extraCandies: int\n",
    "        :rtype: List[bool]\n",
    "        \"\"\"\n",
    "        result = [candies[i] + extraCandies for i in range(len(candies))]\n",
    "        answ = [True if result[i] >= max(candies) else False for i in range(len(result))]\n",
    "        return answ\n"
   ]
  },
  {
   "cell_type": "code",
   "execution_count": 59,
   "id": "410e6612",
   "metadata": {},
   "outputs": [
    {
     "data": {
      "text/plain": [
       "[True, True, True, False, True]"
      ]
     },
     "execution_count": 59,
     "metadata": {},
     "output_type": "execute_result"
    }
   ],
   "source": [
    "kidsWithCandies(candies,extraCandies)"
   ]
  },
  {
   "cell_type": "markdown",
   "id": "096ab578",
   "metadata": {},
   "source": [
    "This solution was accepted with 4 ms Beats 17.05%"
   ]
  },
  {
   "cell_type": "code",
   "execution_count": 64,
   "id": "1cb65863",
   "metadata": {},
   "outputs": [],
   "source": [
    "def kidsWithCandies(candies, extraCandies):\n",
    "        \"\"\"\n",
    "        :type candies: List[int]\n",
    "        :type extraCandies: int\n",
    "        :rtype: List[bool]\n",
    "        \"\"\"\n",
    "        m = max(candies)\n",
    "        result = list(map(lambda x: x + extraCandies, candies))\n",
    "        answ = list(map(lambda x: True if x>=m else False, result))\n",
    "        return answ\n"
   ]
  },
  {
   "cell_type": "code",
   "execution_count": 65,
   "id": "54119bfe",
   "metadata": {},
   "outputs": [
    {
     "data": {
      "text/plain": [
       "[True, True, True, False, True]"
      ]
     },
     "execution_count": 65,
     "metadata": {},
     "output_type": "execute_result"
    }
   ],
   "source": [
    "kidsWithCandies(candies,extraCandies)"
   ]
  },
  {
   "cell_type": "markdown",
   "id": "74a75730",
   "metadata": {},
   "source": [
    "This solution was accepted with 3 ms Beats 25.79%"
   ]
  },
  {
   "cell_type": "code",
   "execution_count": 66,
   "id": "b8734421",
   "metadata": {},
   "outputs": [],
   "source": [
    "def kidsWithCandies(candies, extraCandies):\n",
    "        \"\"\"\n",
    "        :type candies: List[int]\n",
    "        :type extraCandies: int\n",
    "        :rtype: List[bool]\n",
    "        \"\"\"\n",
    "        m = max(candies)\n",
    "        answ = list(map(lambda x: True if x>=m else False, list(map(lambda x: x + extraCandies, candies))))\n",
    "        return answ\n"
   ]
  },
  {
   "cell_type": "code",
   "execution_count": 67,
   "id": "84c69f27",
   "metadata": {},
   "outputs": [
    {
     "data": {
      "text/plain": [
       "[True, True, True, False, True]"
      ]
     },
     "execution_count": 67,
     "metadata": {},
     "output_type": "execute_result"
    }
   ],
   "source": [
    "kidsWithCandies(candies,extraCandies)"
   ]
  },
  {
   "cell_type": "markdown",
   "id": "5a0f4da2",
   "metadata": {},
   "source": [
    "This soultion was accepted with 0 ms Beats 100.00%"
   ]
  },
  {
   "cell_type": "code",
   "execution_count": 70,
   "id": "f1328223",
   "metadata": {},
   "outputs": [],
   "source": [
    "def kidsWithCandies(candies, extraCandies):\n",
    "        \"\"\"\n",
    "        :type candies: List[int]\n",
    "        :type extraCandies: int\n",
    "        :rtype: List[bool]\n",
    "        \"\"\"\n",
    "        m = max(candies)\n",
    "        answ = list(map(lambda x: x + extraCandies>=m, candies))\n",
    "        return answ\n"
   ]
  },
  {
   "cell_type": "code",
   "execution_count": 71,
   "id": "3786126f",
   "metadata": {},
   "outputs": [
    {
     "data": {
      "text/plain": [
       "[True, True, True, False, True]"
      ]
     },
     "execution_count": 71,
     "metadata": {},
     "output_type": "execute_result"
    }
   ],
   "source": [
    "kidsWithCandies(candies,extraCandies)"
   ]
  },
  {
   "cell_type": "markdown",
   "id": "d7121abb",
   "metadata": {},
   "source": [
    "This soultion was accepted with 0 ms Beats 100.00%"
   ]
  }
 ],
 "metadata": {
  "kernelspec": {
   "display_name": "Python 3",
   "language": "python",
   "name": "python3"
  },
  "language_info": {
   "codemirror_mode": {
    "name": "ipython",
    "version": 3
   },
   "file_extension": ".py",
   "mimetype": "text/x-python",
   "name": "python",
   "nbconvert_exporter": "python",
   "pygments_lexer": "ipython3",
   "version": "3.14.0"
  }
 },
 "nbformat": 4,
 "nbformat_minor": 5
}
