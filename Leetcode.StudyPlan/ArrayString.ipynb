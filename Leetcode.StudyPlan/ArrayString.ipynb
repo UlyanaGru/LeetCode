{
 "cells": [
  {
   "cell_type": "code",
   "execution_count": 1,
   "id": "a2d47096",
   "metadata": {},
   "outputs": [],
   "source": [
    "import numpy as np"
   ]
  },
  {
   "cell_type": "markdown",
   "id": "4c11a621",
   "metadata": {},
   "source": [
    "You are given two strings word1 and word2. Merge the strings by adding letters in alternating order, starting with word1. If a string is longer than the other, append the additional letters onto the end of the merged string. Return the merged string"
   ]
  },
  {
   "cell_type": "code",
   "execution_count": 92,
   "id": "9c9852f5",
   "metadata": {},
   "outputs": [],
   "source": [
    "words = [['cdf', 'a'], ['ab', 'pqrs'], ['abcd', 'pq']]"
   ]
  },
  {
   "cell_type": "code",
   "execution_count": 110,
   "id": "b2fa53df",
   "metadata": {},
   "outputs": [],
   "source": [
    "def mergeAlternately(word1, word2):\n",
    "    \"\"\"\n",
    "    :type word1: str\n",
    "    :type word2: str\n",
    "    \"\"\"\n",
    "    sequence = []\n",
    "    min_len = min(len(word1),len(word2))\n",
    "    for i in range(min_len):\n",
    "        sequence.append(word1[i])\n",
    "        sequence.append(word2[i])\n",
    "    if len(word1) > len(word2):\n",
    "        sequence.extend(word1[min_len:])\n",
    "    elif len(word2) > len(word1):\n",
    "        sequence.extend(word2[min_len:])\n",
    "    return ''.join(sequence)"
   ]
  },
  {
   "cell_type": "code",
   "execution_count": 111,
   "id": "051eea1a",
   "metadata": {},
   "outputs": [
    {
     "data": {
      "text/plain": [
       "'cadf'"
      ]
     },
     "execution_count": 111,
     "metadata": {},
     "output_type": "execute_result"
    }
   ],
   "source": [
    "mergeAlternately(words[0][0], words[0][1])"
   ]
  }
 ],
 "metadata": {
  "kernelspec": {
   "display_name": "Python 3",
   "language": "python",
   "name": "python3"
  },
  "language_info": {
   "codemirror_mode": {
    "name": "ipython",
    "version": 3
   },
   "file_extension": ".py",
   "mimetype": "text/x-python",
   "name": "python",
   "nbconvert_exporter": "python",
   "pygments_lexer": "ipython3",
   "version": "3.14.0"
  }
 },
 "nbformat": 4,
 "nbformat_minor": 5
}
